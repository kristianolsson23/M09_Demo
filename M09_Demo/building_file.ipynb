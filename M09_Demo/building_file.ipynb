{
 "cells": [
  {
   "cell_type": "code",
   "execution_count": 1,
   "metadata": {},
   "outputs": [
    {
     "name": "stdout",
     "output_type": "stream",
     "text": [
      "Obtaining file:///Users/michaelvaden/GithubRepos/M09_Demo\n",
      "  Preparing metadata (setup.py) ... \u001b[?25ldone\n",
      "\u001b[?25hRequirement already satisfied: numpy>=1.11.1 in /Users/michaelvaden/opt/anaconda3/lib/python3.9/site-packages (from M09-Demo==1.0.0) (1.24.3)\n",
      "Requirement already satisfied: matplotlib>=1.5.1 in /Users/michaelvaden/opt/anaconda3/lib/python3.9/site-packages (from M09-Demo==1.0.0) (3.5.1)\n",
      "Requirement already satisfied: cycler>=0.10 in /Users/michaelvaden/opt/anaconda3/lib/python3.9/site-packages (from matplotlib>=1.5.1->M09-Demo==1.0.0) (0.11.0)\n",
      "Requirement already satisfied: fonttools>=4.22.0 in /Users/michaelvaden/opt/anaconda3/lib/python3.9/site-packages (from matplotlib>=1.5.1->M09-Demo==1.0.0) (4.25.0)\n",
      "Requirement already satisfied: kiwisolver>=1.0.1 in /Users/michaelvaden/opt/anaconda3/lib/python3.9/site-packages (from matplotlib>=1.5.1->M09-Demo==1.0.0) (1.4.4)\n",
      "Requirement already satisfied: packaging>=20.0 in /Users/michaelvaden/opt/anaconda3/lib/python3.9/site-packages (from matplotlib>=1.5.1->M09-Demo==1.0.0) (23.0)\n",
      "Requirement already satisfied: pillow>=6.2.0 in /Users/michaelvaden/opt/anaconda3/lib/python3.9/site-packages (from matplotlib>=1.5.1->M09-Demo==1.0.0) (9.4.0)\n",
      "Requirement already satisfied: pyparsing>=2.2.1 in /Users/michaelvaden/opt/anaconda3/lib/python3.9/site-packages (from matplotlib>=1.5.1->M09-Demo==1.0.0) (3.0.9)\n",
      "Requirement already satisfied: python-dateutil>=2.7 in /Users/michaelvaden/opt/anaconda3/lib/python3.9/site-packages (from matplotlib>=1.5.1->M09-Demo==1.0.0) (2.8.2)\n",
      "Requirement already satisfied: six>=1.5 in /Users/michaelvaden/opt/anaconda3/lib/python3.9/site-packages (from python-dateutil>=2.7->matplotlib>=1.5.1->M09-Demo==1.0.0) (1.16.0)\n",
      "Installing collected packages: M09-Demo\n",
      "  Running setup.py develop for M09-Demo\n",
      "Successfully installed M09-Demo-1.0.0\n"
     ]
    }
   ],
   "source": [
    "!pip install -e ."
   ]
  }
 ],
 "metadata": {
  "kernelspec": {
   "display_name": "base",
   "language": "python",
   "name": "python3"
  },
  "language_info": {
   "codemirror_mode": {
    "name": "ipython",
    "version": 3
   },
   "file_extension": ".py",
   "mimetype": "text/x-python",
   "name": "python",
   "nbconvert_exporter": "python",
   "pygments_lexer": "ipython3",
   "version": "3.9.12"
  },
  "orig_nbformat": 4
 },
 "nbformat": 4,
 "nbformat_minor": 2
}
